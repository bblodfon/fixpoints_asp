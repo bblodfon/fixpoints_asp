{
  "nbformat": 4,
  "nbformat_minor": 0,
  "metadata": {
    "colab": {
      "name": "ClingoOnColab.ipynb",
      "provenance": [],
      "collapsed_sections": [],
      "include_colab_link": true
    },
    "kernelspec": {
      "name": "python3",
      "display_name": "Python 3"
    }
  },
  "cells": [
    {
      "cell_type": "markdown",
      "metadata": {
        "id": "view-in-github",
        "colab_type": "text"
      },
      "source": [
        "<a href=\"https://colab.research.google.com/github/bblodfon/fixpoints_asp/blob/master/ClingoOnColab.ipynb\" target=\"_parent\"><img src=\"https://colab.research.google.com/assets/colab-badge.svg\" alt=\"Open In Colab\"/></a>"
      ]
    },
    {
      "cell_type": "markdown",
      "metadata": {
        "id": "jPMxIYpnOMTP",
        "colab_type": "text"
      },
      "source": [
        "This notebook introduces the use of [Google Colab](https://colab.research.google.com/) for sharing executable sketches of [ASP-based systems](https://arxiv.org/abs/2008.06692). This is useful when someone who *is* familiar with ASP want to communicate to someone who *is not* familiar with ASP how ASP might be used to solve their problem. In particular, it skips over most of the details of the problem formulation in ASP to give focus to concrete details about how the system might be deployed.\n",
        "\n",
        "Some things demonstrated:\n",
        " - Installing `clingo`\n",
        " - Defining a simple and compact problem file format that you might share with collaborators (who will give you more realistic problem instances in the future)\n",
        " - Converting the problem format into a set of problem instance definition facts\n",
        " - Encoding a semantics of the problem in ASP\n",
        " - Executing `clingo` to get one or more solutions\n",
        " - Packaging overall system in a Python function"
      ]
    },
    {
      "cell_type": "markdown",
      "metadata": {
        "id": "OjiD2BanPcNa",
        "colab_type": "text"
      },
      "source": [
        "# Installing `clingo`"
      ]
    },
    {
      "cell_type": "code",
      "metadata": {
        "id": "l55P03XhNCFn",
        "colab_type": "code",
        "colab": {}
      },
      "source": [
        "!apt-get -qq install gringo"
      ],
      "execution_count": null,
      "outputs": []
    },
    {
      "cell_type": "code",
      "metadata": {
        "id": "Q_fl55dBM-Qy",
        "colab_type": "code",
        "colab": {
          "base_uri": "https://localhost:8080/",
          "height": 204
        },
        "outputId": "eb8c6468-3a71-4b52-cd10-e008bce87992"
      },
      "source": [
        "!clingo --version"
      ],
      "execution_count": null,
      "outputs": [
        {
          "output_type": "stream",
          "text": [
            "clingo version 5.2.2\n",
            "Address model: 64-bit\n",
            "\n",
            "libgringo version 5.2.2\n",
            "Configuration: with Python 3.6.4, with Lua 5.3.3\n",
            "\n",
            "libclasp version 3.3.3 (libpotassco version 1.0.1)\n",
            "Configuration: WITH_THREADS=1\n",
            "Copyright (C) Benjamin Kaufmann\n",
            "\n",
            "License: The MIT License <https://opensource.org/licenses/MIT>\n"
          ],
          "name": "stdout"
        }
      ]
    },
    {
      "cell_type": "markdown",
      "metadata": {
        "id": "q4knlfffQP2y",
        "colab_type": "text"
      },
      "source": [
        "# Problem Background\n",
        "\n",
        "Problem definition: [finding a fixpoint of a system of pseudo-boolean update rules](https://math.stackexchange.com/questions/3797239/solver-for-finding-fixpoints-of-a-boolean-system) as recently discussed on [`potassco-users` mailing list](https://sourceforge.net/p/potassco/mailman/potassco-users/?viewmonth=202008&viewday=21)."
      ]
    },
    {
      "cell_type": "markdown",
      "metadata": {
        "id": "MVjup4xUN35v",
        "colab_type": "text"
      },
      "source": [
        "# Problem file format\n",
        "\n",
        "The problem hinges on finding assignments to $n$ Boolean variables $x_i$ such that $x_i = [ \\sum_j{a_{ij}x_j} ]$ (where $[]$ evaluates non-negativity). Given the matrix $a$, a problem instance is fully defined.\n",
        "\n",
        "Because these matrices might get large,  we'll use a [`scipy.sparse`](https://docs.scipy.org/doc/scipy/reference/sparse.html) data structure to represent these matrices in memory. For storage and interchange, we'll let scipy use its own [compressed serialization format](https://docs.scipy.org/doc/scipy/reference/generated/scipy.sparse.save_npz.html)."
      ]
    },
    {
      "cell_type": "code",
      "metadata": {
        "id": "e5hknjwWTnCc",
        "colab_type": "code",
        "colab": {
          "base_uri": "https://localhost:8080/",
          "height": 34
        },
        "outputId": "590161b2-1510-49d6-c5a9-d5a8ef194d27"
      },
      "source": [
        "import scipy.sparse\n",
        "\n",
        "a = scipy.sparse.lil_matrix((3,3),dtype='int32')\n",
        "\n",
        "# x_1 := [ -x_2 ]\n",
        "a[0,1] = -1 \n",
        "\n",
        "# x_2 := [ x_1 - x_3 ]\n",
        "#a[1,0] = 1 # per discussion, this is commented out to allow the problem to be satisfiable\n",
        "a[1,2] = -1\n",
        "\n",
        "# x_3 := [ x_1 + x_3 ]\n",
        "a[2,0] = 1\n",
        "a[2,2] = 1\n",
        "\n",
        "scipy.sparse.save_npz(\"example.npz\", a.tocoo())\n",
        "\n",
        "!ls -lh example.npz\n",
        "# Space-savings from the file format choice are not visible on this tiny instance"
      ],
      "execution_count": null,
      "outputs": [
        {
          "output_type": "stream",
          "text": [
            "-rw-r--r-- 1 root root 955 Aug 22 22:58 example.npz\n"
          ],
          "name": "stdout"
        }
      ]
    },
    {
      "cell_type": "markdown",
      "metadata": {
        "id": "EqVJ1wk9UM6d",
        "colab_type": "text"
      },
      "source": [
        "# Converting problem file into ASP format"
      ]
    },
    {
      "cell_type": "code",
      "metadata": {
        "id": "Ai1Qw4HiEdrn",
        "colab_type": "code",
        "colab": {}
      },
      "source": [
        "def write_problem_instance(a,f):\n",
        "  f.write(b\"num_variables(%d).\\n\" % a.shape[0])\n",
        "  for ijc in zip(a.row, a.col, a.data):\n",
        "    f.write(b\"coef(%d,%d,%d).\\n\" % ijc)\n",
        "\n",
        "a = scipy.sparse.load_npz(\"example.npz\")\n",
        "with open(\"example.lp\", \"wb\") as f:\n",
        "  write_problem_instance(a, f)"
      ],
      "execution_count": null,
      "outputs": []
    },
    {
      "cell_type": "code",
      "metadata": {
        "id": "D-FfYk9AFEN5",
        "colab_type": "code",
        "colab": {
          "base_uri": "https://localhost:8080/",
          "height": 102
        },
        "outputId": "9586b645-d450-4538-9476-dbe2db985633"
      },
      "source": [
        "!cat example.lp"
      ],
      "execution_count": null,
      "outputs": [
        {
          "output_type": "stream",
          "text": [
            "num_variables(3).\n",
            "coef(0,1,-1).\n",
            "coef(1,2,-1).\n",
            "coef(2,0,1).\n",
            "coef(2,2,1).\n"
          ],
          "name": "stdout"
        }
      ]
    },
    {
      "cell_type": "markdown",
      "metadata": {
        "id": "K6kFvymMIvlH",
        "colab_type": "text"
      },
      "source": [
        "# Encoding semantics of the general problem"
      ]
    },
    {
      "cell_type": "code",
      "metadata": {
        "id": "19XYejFtKOb3",
        "colab_type": "code",
        "colab": {
          "base_uri": "https://localhost:8080/",
          "height": 34
        },
        "outputId": "75f96c4b-2e84-4ef4-fe85-38d0118a294a"
      },
      "source": [
        "%%file solution.lp\n",
        "\n",
        "var(0..N-1) :- num_variables(N).\n",
        "{ hot(I) } :- var(I).\n",
        "\n",
        " hot(I) :- var(I), #sum { C, J : coef(I, J, C), hot(J) } >= 0.\n",
        "-hot(I) :- var(I), #sum { C, J : coef(I, J, C), hot(J) } < 0.\n",
        "\n",
        "#show hot/1."
      ],
      "execution_count": null,
      "outputs": [
        {
          "output_type": "stream",
          "text": [
            "Overwriting solution.lp\n"
          ],
          "name": "stdout"
        }
      ]
    },
    {
      "cell_type": "markdown",
      "metadata": {
        "id": "FhQ4eJgBO2-R",
        "colab_type": "text"
      },
      "source": [
        "# Executing Clingo to get some solutions"
      ]
    },
    {
      "cell_type": "markdown",
      "metadata": {
        "id": "w7DWn2-pPfOp",
        "colab_type": "text"
      },
      "source": [
        "It's always a good idea to use `--text` on a small problem instance to make sure the grounder is expanding your first-order rules the way you expect."
      ]
    },
    {
      "cell_type": "code",
      "metadata": {
        "id": "nXRuQ1roKeCK",
        "colab_type": "code",
        "colab": {
          "base_uri": "https://localhost:8080/",
          "height": 391
        },
        "outputId": "180549e2-c6af-4de5-8fb0-10aeae7aafcb"
      },
      "source": [
        "!clingo --text example.lp solution.lp"
      ],
      "execution_count": null,
      "outputs": [
        {
          "output_type": "stream",
          "text": [
            "num_variables(3).\n",
            "coef(2,0,1).\n",
            "coef(2,2,1).\n",
            "coef(0,1,-1).\n",
            "coef(1,2,-1).\n",
            "var(0).\n",
            "var(1).\n",
            "var(2).\n",
            "{hot(0)}.\n",
            "{hot(1)}.\n",
            "{hot(2)}.\n",
            "hot(2):-#delayed(1).\n",
            "hot(1):-#delayed(2).\n",
            "hot(0):-#delayed(3).\n",
            "-hot(0):-0>#sum{-1,1:hot(1)}.\n",
            "-hot(1):-0>#sum{-1,2:hot(2)}.\n",
            ":-hot(0),-hot(0).\n",
            ":-hot(1),-hot(1).\n",
            "#delayed(1) <=> #sum{1,2:hot(2);1,0:hot(0)}\n",
            "#delayed(2) <=> 0<=#sum{-1,2:hot(2)}\n",
            "#delayed(3) <=> 0<=#sum{-1,1:hot(1)}\n",
            "#show hot/1.\n"
          ],
          "name": "stdout"
        }
      ]
    },
    {
      "cell_type": "markdown",
      "metadata": {
        "id": "upnBxbWuPrmT",
        "colab_type": "text"
      },
      "source": [
        "Just how many solutions are there to this tiny example problem? One."
      ]
    },
    {
      "cell_type": "code",
      "metadata": {
        "id": "NK-7MnClKg0Z",
        "colab_type": "code",
        "colab": {
          "base_uri": "https://localhost:8080/",
          "height": 204
        },
        "outputId": "3a76d060-4859-425f-d5ee-b062790fa513"
      },
      "source": [
        "!clingo example.lp solution.lp 0"
      ],
      "execution_count": null,
      "outputs": [
        {
          "output_type": "stream",
          "text": [
            "clingo version 5.2.2\n",
            "Reading from example.lp ...\n",
            "Solving...\n",
            "Answer: 1\n",
            "hot(2) hot(0)\n",
            "SATISFIABLE\n",
            "\n",
            "Models       : 1\n",
            "Calls        : 1\n",
            "Time         : 0.001s (Solving: 0.00s 1st Model: 0.00s Unsat: 0.00s)\n",
            "CPU Time     : 0.001s\n"
          ],
          "name": "stdout"
        }
      ]
    },
    {
      "cell_type": "markdown",
      "metadata": {
        "id": "P_FI1VZhQ4n6",
        "colab_type": "text"
      },
      "source": [
        "# Packaging overall system in a Python function\n",
        "\n",
        "This is the kind of function you might use in some Python server software. Because it runs the solver in a subprocess and makes no writes to the disk (and has no other shared state), it is safe to call concurrently from different threads in a way that yields parallelism. Error handling (e.g. for when the solver is spontaneously killed for using all of the server's memory) could be improved, but at least it supports the SAT and UNSAT cases."
      ]
    },
    {
      "cell_type": "code",
      "metadata": {
        "id": "PoepouYyOFp0",
        "colab_type": "code",
        "colab": {}
      },
      "source": [
        "import subprocess\n",
        "import json\n",
        "\n",
        "def pb_system_fixpoints(a, max_solutions=0):\n",
        "\n",
        "  clingo = subprocess.Popen(\n",
        "      [\"/usr/bin/clingo\",\"-\", str(max_solutions), \"--outf=2\"],\n",
        "      stdin=subprocess.PIPE,\n",
        "      stdout=subprocess.PIPE)\n",
        "\n",
        "  clingo.stdin.write(b\"\"\"\n",
        "    var(0..N-1) :- num_variables(N).\n",
        "    { hot(I) } :- var(I).\n",
        "\n",
        "     hot(I) :- var(I), #sum { C, J : coef(I, J, C), hot(J) } >= 0.\n",
        "    -hot(I) :- var(I), #sum { C, J : coef(I, J, C), hot(J) } < 0.\n",
        "\n",
        "    #show hot/1.\n",
        "  \"\"\")\n",
        "\n",
        "  clingo.stdin.write(b\"num_variables(%d).\\n\" % a.shape[0])\n",
        "\n",
        "  for ijc in zip(a.row, a.col, a.data):\n",
        "    clingo.stdin.write(b\"coef(%d,%d,%d).\\n\" % ijc)\n",
        "\n",
        "  clingo.stdin.close()\n",
        "\n",
        "  result = json.load(clingo.stdout)\n",
        "  \n",
        "  clingo.wait()\n",
        "\n",
        "  if result['Result'] == 'SATISFIABLE':\n",
        "    witnesses = result['Call'][0]['Witnesses']\n",
        "    fixpoints = scipy.sparse.lil_matrix((len(witnesses),a.shape[0]),dtype=bool)\n",
        "    for i,w in enumerate(witnesses):\n",
        "      for term in w['Value']:\n",
        "        assert term.startswith('hot(')\n",
        "        fixpoints[i,int(term[4:-1])] = 1\n",
        "    return fixpoints.tocsc()\n",
        "  else:\n",
        "    return None"
      ],
      "execution_count": null,
      "outputs": []
    },
    {
      "cell_type": "code",
      "metadata": {
        "id": "jTV6TK-HVXnl",
        "colab_type": "code",
        "colab": {
          "base_uri": "https://localhost:8080/",
          "height": 34
        },
        "outputId": "fa61e109-5746-450f-c37b-3cf94dbfe9d1"
      },
      "source": [
        "pb_system_fixpoints(a).todense()"
      ],
      "execution_count": null,
      "outputs": [
        {
          "output_type": "execute_result",
          "data": {
            "text/plain": [
              "matrix([[ True, False,  True]])"
            ]
          },
          "metadata": {
            "tags": []
          },
          "execution_count": 10
        }
      ]
    }
  ]
}